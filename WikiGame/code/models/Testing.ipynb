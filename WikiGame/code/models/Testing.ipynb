{
 "cells": [
  {
   "cell_type": "code",
   "execution_count": 2,
   "id": "86519f07",
   "metadata": {},
   "outputs": [],
   "source": [
    "import numpy as np\n",
    "from WordVec import WordVec\n",
    "embeddings = {}\n",
    "with open(\"./top_50000.txt\", 'r') as f:\n",
    "    for line in f:\n",
    "        values = line.split()\n",
    "        word = values[0]\n",
    "        vector = np.asarray(values[1:], \"float32\")\n",
    "        embeddings[word] = vector"
   ]
  },
  {
   "cell_type": "code",
   "execution_count": 4,
   "id": "f53ad2e2",
   "metadata": {},
   "outputs": [
    {
     "data": {
      "text/plain": [
       "['son',\n",
       " 'child son',\n",
       " 'doc2 mom dad',\n",
       " 'child',\n",
       " 'Unfortunately no. This is a federally funded program and thus only US citizens and permanent residents are elligible to apply.',\n",
       " 'house',\n",
       " 'hi cat dog',\n",
       " 'home',\n",
       " 'trees are cool',\n",
       " 'haha']"
      ]
     },
     "execution_count": 4,
     "metadata": {},
     "output_type": "execute_result"
    }
   ],
   "source": [
    "a = WordVec(embeddings)\n",
    "documents = [\"hi cat dog\", \"child son\", \"son\", \"child\", \"doc2 mom dad\",\"trees are cool\", \"haha\", \"house\",\"home\", \"Unfortunately no. This is a federally funded program and thus only US citizens and permanent residents are elligible to apply.\"]\n",
    "comp = \"son\"\n",
    "a.get_closest(documents,comp,20)"
   ]
  }
 ],
 "metadata": {
  "kernelspec": {
   "display_name": "Python 3 (ipykernel)",
   "language": "python",
   "name": "python3"
  },
  "language_info": {
   "codemirror_mode": {
    "name": "ipython",
    "version": 3
   },
   "file_extension": ".py",
   "mimetype": "text/x-python",
   "name": "python",
   "nbconvert_exporter": "python",
   "pygments_lexer": "ipython3",
   "version": "3.8.5"
  }
 },
 "nbformat": 4,
 "nbformat_minor": 5
}
